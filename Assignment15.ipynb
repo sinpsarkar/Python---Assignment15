{
 "cells": [
  {
   "cell_type": "markdown",
   "metadata": {},
   "source": [
    "## Problem Statement 1:<br>"
   ]
  },
  {
   "cell_type": "markdown",
   "metadata": {},
   "source": [
    "You survey households in your area to find the average rent they are paying. Find the\n",
    "standard deviation from the following data:<br>\n",
    "$1550, $1700, $900, $850, $1000, $950."
   ]
  },
  {
   "cell_type": "code",
   "execution_count": 8,
   "metadata": {},
   "outputs": [
    {
     "name": "stdout",
     "output_type": "stream",
     "text": [
      "----------------------------------------\n",
      "Standard Deviation =  367.99003609699366\n",
      "----------------------------------------\n"
     ]
    }
   ],
   "source": [
    "import numpy as np\n",
    "from math import sqrt\n",
    "import pandas as pd\n",
    "\n",
    "#Array of surveyed rent\n",
    "rent = np.array([1550,1700,900,850,1000,950])\n",
    "\n",
    "#Mean of Rent\n",
    "mean = rent.mean()\n",
    "\n",
    "#Variance\n",
    "var = (abs(rent - mean)**2).sum()/(len(rent)-1)\n",
    "\n",
    "#Standard Deviation\n",
    "std_dev = sqrt(var)\n",
    "print('-'*40)\n",
    "print(\"Standard Deviation = \",std_dev)\n",
    "print('-'*40)"
   ]
  },
  {
   "cell_type": "markdown",
   "metadata": {},
   "source": [
    "## Problem Statement 2:"
   ]
  },
  {
   "cell_type": "markdown",
   "metadata": {},
   "source": [
    "Find the variance for the following set of data representing trees in California (heights in\n",
    "feet):<br>\n",
    "3, 21, 98, 203, 17, 9"
   ]
  },
  {
   "cell_type": "code",
   "execution_count": 9,
   "metadata": {},
   "outputs": [
    {
     "name": "stdout",
     "output_type": "stream",
     "text": [
      "----------------------------------------\n",
      "Variance =  6219.9\n",
      "----------------------------------------\n"
     ]
    }
   ],
   "source": [
    "height=np.array([3, 21, 98, 203, 17, 9])\n",
    "\n",
    "mean=height.mean()\n",
    "\n",
    "var_ht = (abs(height - mean)**2).sum()/(len(height)-1)\n",
    "\n",
    "print('-'*40)\n",
    "print(\"Variance = \",var_ht)\n",
    "print('-'*40)"
   ]
  },
  {
   "cell_type": "markdown",
   "metadata": {},
   "source": [
    "## Problem Statement 3:"
   ]
  },
  {
   "cell_type": "markdown",
   "metadata": {},
   "source": [
    "In a class on 100 students, 80 students passed in all subjects, 10 failed in one subject,<br>\n",
    "7 failed in two subjects and 3 failed in three subjects. <br>\n",
    "Find the probability distribution of the variable for number of subjects a student from the given class has failed in."
   ]
  },
  {
   "cell_type": "code",
   "execution_count": 12,
   "metadata": {},
   "outputs": [
    {
     "name": "stdout",
     "output_type": "stream",
     "text": [
      "----- Probability Distribution -----\n",
      "   X  P(X)\n",
      "0  0  0.80\n",
      "1  1  0.10\n",
      "2  2  0.07\n",
      "3  3  0.03\n",
      "----------------------------------------\n"
     ]
    }
   ],
   "source": [
    "Students=100\n",
    "Passed=80\n",
    "Fail_one=10\n",
    "Fail_two=7\n",
    "Fail_three=3\n",
    "\n",
    "#Probability of student passing (p(x=0))\n",
    "p_0=Passed/Students\n",
    "\n",
    "#Probability of student failing in 1 subject (p(x=1))\n",
    "p_1=Fail_one/Students\n",
    "\n",
    "#Probability of student failing in 2 subject(p(x=2))\n",
    "p_2=Fail_two/Students\n",
    "\n",
    "#Probability of student failing in 3 subject(p(x=3))\n",
    "p_3=Fail_three/Students\n",
    "\n",
    "#probability distribution of the variable for number of subjects a student from the given class has failed in.\n",
    "prob_dist=pd.DataFrame({'X':[0,1,2,3],'P(X)':[p_0,p_1,p_2,p_3]})\n",
    "print('-'*5,\"Probability Distribution\",'-'*5)\n",
    "print(prob_dist)\n",
    "print('-'*40)"
   ]
  }
 ],
 "metadata": {
  "kernelspec": {
   "display_name": "Python 3",
   "language": "python",
   "name": "python3"
  },
  "language_info": {
   "codemirror_mode": {
    "name": "ipython",
    "version": 3
   },
   "file_extension": ".py",
   "mimetype": "text/x-python",
   "name": "python",
   "nbconvert_exporter": "python",
   "pygments_lexer": "ipython3",
   "version": "3.7.1"
  }
 },
 "nbformat": 4,
 "nbformat_minor": 2
}
